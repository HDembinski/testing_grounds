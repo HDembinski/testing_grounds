{
 "cells": [
  {
   "cell_type": "code",
   "execution_count": 1,
   "metadata": {},
   "outputs": [],
   "source": [
    "import numba as nb\n",
    "import numpy as np"
   ]
  },
  {
   "cell_type": "code",
   "execution_count": 2,
   "metadata": {},
   "outputs": [],
   "source": [
    "@nb.jitclass(((\"size\", nb.int32), (\"array\", nb.float64[:])))\n",
    "class ArrayBuilder:\n",
    "    def __init__(self, initial_capacity):\n",
    "        self.size = 0\n",
    "        self.array = np.empty(initial_capacity, dtype=nb.float64)\n",
    "\n",
    "    def append(self, value):\n",
    "        if self.size == len(self.array):\n",
    "            n = self.size // 2 + 1\n",
    "            self.array = np.append(self.array, np.empty(n, dtype=self.array.dtype))\n",
    "        self.array[self.size] = value\n",
    "        self.size += 1\n",
    "\n",
    "    def get(self):\n",
    "        return self.array[: self.size]"
   ]
  },
  {
   "cell_type": "code",
   "execution_count": 43,
   "metadata": {},
   "outputs": [],
   "source": [
    "x = np.random.randn(100000)"
   ]
  },
  {
   "cell_type": "code",
   "execution_count": 44,
   "metadata": {},
   "outputs": [
    {
     "name": "stdout",
     "output_type": "stream",
     "text": [
      "3.08 ms ± 187 µs per loop (mean ± std. dev. of 7 runs, 100 loops each)\n"
     ]
    }
   ],
   "source": [
    "ar = ArrayBuilder(0)\n",
    "\n",
    "@nb.njit\n",
    "def fill(x):\n",
    "    ar= ArrayBuilder(0)\n",
    "    for xi in x:\n",
    "        ar.append(xi)\n",
    "    return ar.get()\n",
    "fill(x)\n",
    "\n",
    "%timeit fill(x)"
   ]
  },
  {
   "cell_type": "code",
   "execution_count": 47,
   "metadata": {},
   "outputs": [
    {
     "name": "stdout",
     "output_type": "stream",
     "text": [
      "199 µs ± 12.5 µs per loop (mean ± std. dev. of 7 runs, 1000 loops each)\n"
     ]
    }
   ],
   "source": [
    "@nb.njit\n",
    "def fill(x):\n",
    "    a = np.empty(0)\n",
    "    n = 0\n",
    "    for xi in x:\n",
    "        if n == len(a):\n",
    "            m = len(a) // 2 + 1\n",
    "            a = np.append(a, np.empty(m))\n",
    "        a[n] = xi\n",
    "        n+=1\n",
    "    return a[:n]\n",
    "fill(x)\n",
    "\n",
    "%timeit fill(x)"
   ]
  },
  {
   "cell_type": "code",
   "execution_count": 48,
   "metadata": {},
   "outputs": [
    {
     "name": "stdout",
     "output_type": "stream",
     "text": [
      "1.74 ms ± 38.2 µs per loop (mean ± std. dev. of 7 runs, 1000 loops each)\n"
     ]
    }
   ],
   "source": [
    "@nb.njit\n",
    "def grow(a, n):\n",
    "    if n == len(a):\n",
    "        m = n // 2 + 1\n",
    "        a2 = np.empty(n + m)\n",
    "        a2[:n] = a\n",
    "        return a2\n",
    "    return a\n",
    "        \n",
    "@nb.njit\n",
    "def fill(x):\n",
    "    a = np.empty(0)\n",
    "    n = 0\n",
    "    for xi in x:\n",
    "        a = grow(a, n)\n",
    "        a[n] = xi\n",
    "        n+= 1\n",
    "    return a[:n]\n",
    "fill(x)\n",
    "\n",
    "%timeit fill(x)"
   ]
  },
  {
   "cell_type": "code",
   "execution_count": 41,
   "metadata": {},
   "outputs": [
    {
     "name": "stdout",
     "output_type": "stream",
     "text": [
      "23.7 µs ± 751 ns per loop (mean ± std. dev. of 7 runs, 10000 loops each)\n"
     ]
    }
   ],
   "source": [
    "@nb.njit\n",
    "def fill(x):\n",
    "    a = np.empty(0)\n",
    "    n = 0\n",
    "    for xi in x:\n",
    "        if n == len(a):\n",
    "            m = n // 2 + 1\n",
    "            a = np.append(a, np.empty(m))\n",
    "        a[n] = xi\n",
    "        n+= 1\n",
    "    return a[:n]\n",
    "fill(x)\n",
    "\n",
    "%timeit fill(x)"
   ]
  },
  {
   "cell_type": "code",
   "execution_count": 42,
   "metadata": {},
   "outputs": [
    {
     "name": "stdout",
     "output_type": "stream",
     "text": [
      "21.7 µs ± 740 ns per loop (mean ± std. dev. of 7 runs, 10000 loops each)\n"
     ]
    }
   ],
   "source": [
    "@nb.njit\n",
    "def fill(x):\n",
    "    a = np.empty(0)\n",
    "    n = 0\n",
    "    for xi in x:\n",
    "        if n == len(a):\n",
    "            m = n // 2 + 1\n",
    "            a2 = np.empty(n + m)\n",
    "            a2[:n] = a\n",
    "            a = a2\n",
    "        a[n] = xi\n",
    "        n+= 1\n",
    "    return a[:n]\n",
    "fill(x)\n",
    "\n",
    "%timeit fill(x)"
   ]
  },
  {
   "cell_type": "code",
   "execution_count": null,
   "metadata": {},
   "outputs": [],
   "source": []
  }
 ],
 "metadata": {
  "kernelspec": {
   "display_name": "prompt_hadrons",
   "language": "python",
   "name": "prompt_hadrons"
  },
  "language_info": {
   "codemirror_mode": {
    "name": "ipython",
    "version": 3
   },
   "file_extension": ".py",
   "mimetype": "text/x-python",
   "name": "python",
   "nbconvert_exporter": "python",
   "pygments_lexer": "ipython3",
   "version": "3.6.7"
  }
 },
 "nbformat": 4,
 "nbformat_minor": 4
}
